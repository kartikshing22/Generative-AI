{
 "cells": [
  {
   "cell_type": "code",
   "execution_count": null,
   "id": "9610a60f-8989-4276-a6be-48586a84720f",
   "metadata": {},
   "outputs": [],
   "source": [
    "import os\n",
    "from dotenv import load_dotenv\n",
    "load_dotenv(dotenv_path=\"../.env\")\n",
    "OPENAI_API_KEY = os.getenv(\"OPENAI_API_KEY\")\n",
    "os.environ[\"OPENAI_API_KEY\"] = OPENAI_API_KEY"
   ]
  },
  {
   "cell_type": "code",
   "execution_count": null,
   "id": "3e600a42-51b2-4daf-a7e5-932798bbc27f",
   "metadata": {},
   "outputs": [],
   "source": [
    "pip install langchain chromadb openai tiktoken pypdf langchain_openai langchain-community langchain_chroma"
   ]
  },
  {
   "cell_type": "code",
   "execution_count": 91,
   "id": "dcd5ccfa",
   "metadata": {},
   "outputs": [],
   "source": [
    "from langchain_openai import OpenAIEmbeddings\n",
    "from langchain.vectorstores import Chroma"
   ]
  },
  {
   "cell_type": "code",
   "execution_count": 92,
   "id": "5aec6c0d",
   "metadata": {},
   "outputs": [],
   "source": [
    "from langchain.schema import Document\n",
    "\n",
    "# Create LangChain documents for IPL players\n",
    "\n",
    "doc1 = Document(\n",
    "        page_content=\"Virat Kohli is one of the most successful and consistent batsmen in IPL history. Known for his aggressive batting style and fitness, he has led the Royal Challengers Bangalore in multiple seasons.\",\n",
    "        metadata={\"team\": \"Royal Challengers Bangalore\"}\n",
    "    )\n",
    "doc2 = Document(\n",
    "        page_content=\"Rohit Sharma is the most successful captain in IPL history, leading Mumbai Indians to five titles. He's known for his calm demeanor and ability to play big innings under pressure.\",\n",
    "        metadata={\"team\": \"Mumbai Indians\"}\n",
    "    )\n",
    "doc3 = Document(\n",
    "        page_content=\"MS Dhoni, famously known as Captain Cool, has led Chennai Super Kings to multiple IPL titles. His finishing skills, wicketkeeping, and leadership are legendary.\",\n",
    "        metadata={\"team\": \"Chennai Super Kings\"}\n",
    "    )\n",
    "doc4 = Document(\n",
    "        page_content=\"Jasprit Bumrah is considered one of the best fast bowlers in T20 cricket. Playing for Mumbai Indians, he is known for his yorkers and death-over expertise.\",\n",
    "        metadata={\"team\": \"Mumbai Indians\"}\n",
    "    )\n",
    "doc5 = Document(\n",
    "        page_content=\"Ravindra Jadeja is a dynamic all-rounder who contributes with both bat and ball. Representing Chennai Super Kings, his quick fielding and match-winning performances make him a key player.\",\n",
    "        metadata={\"team\": \"Chennai Super Kings\"}\n",
    "    )\n",
    "\n"
   ]
  },
  {
   "cell_type": "code",
   "execution_count": 93,
   "id": "6301ad36",
   "metadata": {},
   "outputs": [],
   "source": [
    "docs = [doc1, doc2, doc3, doc4, doc5]"
   ]
  },
  {
   "cell_type": "code",
   "execution_count": 94,
   "id": "f297fcfa",
   "metadata": {},
   "outputs": [],
   "source": [
    "vector_store = Chroma(\n",
    "    embedding_function=OpenAIEmbeddings(),\n",
    "    persist_directory='my_chroma_db',\n",
    "    collection_name='sample'\n",
    ")"
   ]
  },
  {
   "cell_type": "code",
   "execution_count": 95,
   "id": "06d88af9",
   "metadata": {},
   "outputs": [
    {
     "data": {
      "text/plain": [
       "['7c700ed5-83b6-4524-836e-58d9d272d049',\n",
       " '6aa76618-558b-4469-b2f0-694714e8c2b5',\n",
       " 'a0cf3322-f67b-4040-9ff8-9f35da189a98',\n",
       " 'b1d3039d-86b8-402e-a5bb-24c639ff8734',\n",
       " 'f63b0557-a4ec-4096-b245-7eb541b3f9e1']"
      ]
     },
     "execution_count": 95,
     "metadata": {},
     "output_type": "execute_result"
    }
   ],
   "source": [
    "vector_store.add_documents(docs)"
   ]
  },
  {
   "cell_type": "code",
   "execution_count": 96,
   "id": "976ef454",
   "metadata": {},
   "outputs": [
    {
     "data": {
      "text/plain": [
       "{'ids': ['7c700ed5-83b6-4524-836e-58d9d272d049',\n",
       "  '6aa76618-558b-4469-b2f0-694714e8c2b5',\n",
       "  'a0cf3322-f67b-4040-9ff8-9f35da189a98',\n",
       "  'b1d3039d-86b8-402e-a5bb-24c639ff8734',\n",
       "  'f63b0557-a4ec-4096-b245-7eb541b3f9e1'],\n",
       " 'embeddings': array([[-0.00210453, -0.00214285,  0.0268    , ..., -0.01707893,\n",
       "         -0.00366616,  0.01357884],\n",
       "        [-0.00268021, -0.00010323,  0.02815653, ..., -0.01501936,\n",
       "          0.00590092, -0.01164922],\n",
       "        [ 0.00092799, -0.00476   ,  0.0124662 , ..., -0.01731381,\n",
       "          0.00075886,  0.00296567],\n",
       "        [-0.02714536,  0.00885395,  0.02699314, ..., -0.02592762,\n",
       "          0.00900617, -0.01999116],\n",
       "        [-0.01810451,  0.01281202,  0.0347942 , ..., -0.03034012,\n",
       "         -0.00595078,  0.00521716]], shape=(5, 1536)),\n",
       " 'documents': ['Virat Kohli is one of the most successful and consistent batsmen in IPL history. Known for his aggressive batting style and fitness, he has led the Royal Challengers Bangalore in multiple seasons.',\n",
       "  \"Rohit Sharma is the most successful captain in IPL history, leading Mumbai Indians to five titles. He's known for his calm demeanor and ability to play big innings under pressure.\",\n",
       "  'MS Dhoni, famously known as Captain Cool, has led Chennai Super Kings to multiple IPL titles. His finishing skills, wicketkeeping, and leadership are legendary.',\n",
       "  'Jasprit Bumrah is considered one of the best fast bowlers in T20 cricket. Playing for Mumbai Indians, he is known for his yorkers and death-over expertise.',\n",
       "  'Ravindra Jadeja is a dynamic all-rounder who contributes with both bat and ball. Representing Chennai Super Kings, his quick fielding and match-winning performances make him a key player.'],\n",
       " 'uris': None,\n",
       " 'included': ['embeddings', 'documents', 'metadatas'],\n",
       " 'data': None,\n",
       " 'metadatas': [{'team': 'Royal Challengers Bangalore'},\n",
       "  {'team': 'Mumbai Indians'},\n",
       "  {'team': 'Chennai Super Kings'},\n",
       "  {'team': 'Mumbai Indians'},\n",
       "  {'team': 'Chennai Super Kings'}]}"
      ]
     },
     "execution_count": 96,
     "metadata": {},
     "output_type": "execute_result"
    }
   ],
   "source": [
    "vector_store.get(include=['embeddings','documents', 'metadatas'])"
   ]
  },
  {
   "cell_type": "code",
   "execution_count": null,
   "id": "6b3c97ad",
   "metadata": {},
   "outputs": [
    {
     "data": {
      "text/plain": [
       "[Document(metadata={'team': 'Mumbai Indians'}, page_content='Jasprit Bumrah is considered one of the best fast bowlers in T20 cricket. Playing for Mumbai Indians, he is known for his yorkers and death-over expertise.'),\n",
       " Document(metadata={'team': 'Chennai Super Kings'}, page_content='Ravindra Jadeja is a dynamic all-rounder who contributes with both bat and ball. Representing Chennai Super Kings, his quick fielding and match-winning performances make him a key player.')]"
      ]
     },
     "execution_count": 97,
     "metadata": {},
     "output_type": "execute_result"
    }
   ],
   "source": [
    "# meta-data filtering\n",
    "store.similarity_search(\n",
    "    query='Who among these are a bowler?',\n",
    "    k=2\n",
    ")"
   ]
  },
  {
   "cell_type": "code",
   "execution_count": 98,
   "id": "4a30eb83",
   "metadata": {},
   "outputs": [],
   "source": [
    "# update documents\n",
    "updated_doc1 = Document(\n",
    "    page_content=\"Virat Kohli, the former captain of Royal Challengers Bangalore (RCB), is renowned for his aggressive leadership and consistent batting performances. He holds the record for the most runs in IPL history, including multiple centuries in a single season. Despite RCB not winning an IPL title under his captaincy, Kohli's passion and fitness set a benchmark for the league. His ability to chase targets and anchor innings has made him one of the most dependable players in T20 cricket.\",\n",
    "    metadata={\"team\": \"Royal Challengers Bangalore\"}\n",
    ")\n",
    "\n",
    "vector_store.update_document(document_id='09a39dc6-3ba6-4ea7-927e-fdda591da5e4', document=updated_doc1)\n"
   ]
  },
  {
   "cell_type": "code",
   "execution_count": 99,
   "id": "f7e3eefc",
   "metadata": {},
   "outputs": [
    {
     "data": {
      "text/plain": [
       "{'ids': ['7c700ed5-83b6-4524-836e-58d9d272d049',\n",
       "  '6aa76618-558b-4469-b2f0-694714e8c2b5',\n",
       "  'a0cf3322-f67b-4040-9ff8-9f35da189a98',\n",
       "  'b1d3039d-86b8-402e-a5bb-24c639ff8734',\n",
       "  'f63b0557-a4ec-4096-b245-7eb541b3f9e1'],\n",
       " 'embeddings': array([[-0.00210453, -0.00214285,  0.0268    , ..., -0.01707893,\n",
       "         -0.00366616,  0.01357884],\n",
       "        [-0.00268021, -0.00010323,  0.02815653, ..., -0.01501936,\n",
       "          0.00590092, -0.01164922],\n",
       "        [ 0.00092799, -0.00476   ,  0.0124662 , ..., -0.01731381,\n",
       "          0.00075886,  0.00296567],\n",
       "        [-0.02714536,  0.00885395,  0.02699314, ..., -0.02592762,\n",
       "          0.00900617, -0.01999116],\n",
       "        [-0.01810451,  0.01281202,  0.0347942 , ..., -0.03034012,\n",
       "         -0.00595078,  0.00521716]], shape=(5, 1536)),\n",
       " 'documents': ['Virat Kohli is one of the most successful and consistent batsmen in IPL history. Known for his aggressive batting style and fitness, he has led the Royal Challengers Bangalore in multiple seasons.',\n",
       "  \"Rohit Sharma is the most successful captain in IPL history, leading Mumbai Indians to five titles. He's known for his calm demeanor and ability to play big innings under pressure.\",\n",
       "  'MS Dhoni, famously known as Captain Cool, has led Chennai Super Kings to multiple IPL titles. His finishing skills, wicketkeeping, and leadership are legendary.',\n",
       "  'Jasprit Bumrah is considered one of the best fast bowlers in T20 cricket. Playing for Mumbai Indians, he is known for his yorkers and death-over expertise.',\n",
       "  'Ravindra Jadeja is a dynamic all-rounder who contributes with both bat and ball. Representing Chennai Super Kings, his quick fielding and match-winning performances make him a key player.'],\n",
       " 'uris': None,\n",
       " 'included': ['embeddings', 'documents', 'metadatas'],\n",
       " 'data': None,\n",
       " 'metadatas': [{'team': 'Royal Challengers Bangalore'},\n",
       "  {'team': 'Mumbai Indians'},\n",
       "  {'team': 'Chennai Super Kings'},\n",
       "  {'team': 'Mumbai Indians'},\n",
       "  {'team': 'Chennai Super Kings'}]}"
      ]
     },
     "execution_count": 99,
     "metadata": {},
     "output_type": "execute_result"
    }
   ],
   "source": [
    "# view documents\n",
    "vector_store.get(include=['embeddings','documents', 'metadatas'])"
   ]
  },
  {
   "cell_type": "code",
   "execution_count": 100,
   "id": "ae6af937",
   "metadata": {},
   "outputs": [],
   "source": [
    "# delete document\n",
    "vector_store.delete(ids=['09a39dc6-3ba6-4ea7-927e-fdda591da5e4'])"
   ]
  },
  {
   "cell_type": "code",
   "execution_count": 101,
   "id": "c1c0b52d",
   "metadata": {},
   "outputs": [
    {
     "data": {
      "text/plain": [
       "{'ids': ['7c700ed5-83b6-4524-836e-58d9d272d049',\n",
       "  '6aa76618-558b-4469-b2f0-694714e8c2b5',\n",
       "  'a0cf3322-f67b-4040-9ff8-9f35da189a98',\n",
       "  'b1d3039d-86b8-402e-a5bb-24c639ff8734',\n",
       "  'f63b0557-a4ec-4096-b245-7eb541b3f9e1'],\n",
       " 'embeddings': array([[-0.00210453, -0.00214285,  0.0268    , ..., -0.01707893,\n",
       "         -0.00366616,  0.01357884],\n",
       "        [-0.00268021, -0.00010323,  0.02815653, ..., -0.01501936,\n",
       "          0.00590092, -0.01164922],\n",
       "        [ 0.00092799, -0.00476   ,  0.0124662 , ..., -0.01731381,\n",
       "          0.00075886,  0.00296567],\n",
       "        [-0.02714536,  0.00885395,  0.02699314, ..., -0.02592762,\n",
       "          0.00900617, -0.01999116],\n",
       "        [-0.01810451,  0.01281202,  0.0347942 , ..., -0.03034012,\n",
       "         -0.00595078,  0.00521716]], shape=(5, 1536)),\n",
       " 'documents': ['Virat Kohli is one of the most successful and consistent batsmen in IPL history. Known for his aggressive batting style and fitness, he has led the Royal Challengers Bangalore in multiple seasons.',\n",
       "  \"Rohit Sharma is the most successful captain in IPL history, leading Mumbai Indians to five titles. He's known for his calm demeanor and ability to play big innings under pressure.\",\n",
       "  'MS Dhoni, famously known as Captain Cool, has led Chennai Super Kings to multiple IPL titles. His finishing skills, wicketkeeping, and leadership are legendary.',\n",
       "  'Jasprit Bumrah is considered one of the best fast bowlers in T20 cricket. Playing for Mumbai Indians, he is known for his yorkers and death-over expertise.',\n",
       "  'Ravindra Jadeja is a dynamic all-rounder who contributes with both bat and ball. Representing Chennai Super Kings, his quick fielding and match-winning performances make him a key player.'],\n",
       " 'uris': None,\n",
       " 'included': ['embeddings', 'documents', 'metadatas'],\n",
       " 'data': None,\n",
       " 'metadatas': [{'team': 'Royal Challengers Bangalore'},\n",
       "  {'team': 'Mumbai Indians'},\n",
       "  {'team': 'Chennai Super Kings'},\n",
       "  {'team': 'Mumbai Indians'},\n",
       "  {'team': 'Chennai Super Kings'}]}"
      ]
     },
     "execution_count": 101,
     "metadata": {},
     "output_type": "execute_result"
    }
   ],
   "source": [
    "# view documents\n",
    "vector_store.get(include=['embeddings','documents', 'metadatas'])"
   ]
  },
  {
   "cell_type": "code",
   "execution_count": null,
   "id": "09c68d89",
   "metadata": {},
   "outputs": [],
   "source": []
  }
 ],
 "metadata": {
  "kernelspec": {
   "display_name": "venv",
   "language": "python",
   "name": "python3"
  },
  "language_info": {
   "codemirror_mode": {
    "name": "ipython",
    "version": 3
   },
   "file_extension": ".py",
   "mimetype": "text/x-python",
   "name": "python",
   "nbconvert_exporter": "python",
   "pygments_lexer": "ipython3",
   "version": "3.10.12"
  }
 },
 "nbformat": 4,
 "nbformat_minor": 5
}
