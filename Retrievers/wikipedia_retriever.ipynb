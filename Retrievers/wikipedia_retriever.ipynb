{
 "cells": [
  {
   "cell_type": "code",
   "execution_count": 1,
   "id": "36d8549f",
   "metadata": {},
   "outputs": [],
   "source": [
    "import os\n",
    "from dotenv import load_dotenv\n",
    "load_dotenv(dotenv_path=\"../.env\")\n",
    "OPENAI_API_KEY = os.getenv(\"OPENAI_API_KEY\")\n",
    "os.environ[\"OPENAI_API_KEY\"] = OPENAI_API_KEY\n"
   ]
  },
  {
   "cell_type": "code",
   "execution_count": null,
   "id": "731f112f",
   "metadata": {},
   "outputs": [],
   "source": [
    "pip install langchain chromadb faiss-cpu openai tiktoken langchain_openai langchain-community wikipedia"
   ]
  },
  {
   "cell_type": "code",
   "execution_count": 3,
   "id": "55de9939",
   "metadata": {},
   "outputs": [],
   "source": [
    "from langchain_community.retrievers import WikipediaRetriever"
   ]
  },
  {
   "cell_type": "code",
   "execution_count": 4,
   "id": "4838e47f",
   "metadata": {},
   "outputs": [],
   "source": [
    "retriever = WikipediaRetriever(top_k_results=2, lang=\"en\")"
   ]
  },
  {
   "cell_type": "code",
   "execution_count": 5,
   "id": "06f03264",
   "metadata": {},
   "outputs": [],
   "source": [
    "# Define your query\n",
    "query = \"the geopolitical history of india and pakistan from the perspective of a chinese\"\n",
    "\n",
    "# Get relevant Wikipedia documents\n",
    "docs = retriever.invoke(query)"
   ]
  },
  {
   "cell_type": "code",
   "execution_count": 6,
   "id": "1bc9b40f",
   "metadata": {},
   "outputs": [
    {
     "data": {
      "text/plain": [
       "[Document(metadata={'title': 'China–India relations', 'summary': \"China and India maintained peaceful relations for thousands of years, but their relationship has varied since the Chinese Communist Party (CCP)'s victory in the Chinese Civil War in 1949 and the annexation of Tibet by the People's Republic of China. The two nations have sought economic cooperation with each other, while frequent border disputes and economic nationalism in both countries are major points of contention.\\nCultural and economic relations between China and India date back to ancient times. The Silk Road not only served as a major trade route between India and China, but is also credited for facilitating the spread of Buddhism from India to East Asia. During the 19th century, China was involved in a growing opium trade with the East India Company, which exported opium grown in India. During World War II, both British India and the Republic of China (ROC) played a crucial role in halting the progress of Imperial Japan. After India became independent in 1947, it established relations with the ROC. The modern Sino-Indian diplomatic relationship began in 1950, when India was among the first noncommunist countries to end formal relations with the Republic of China and recognise the PRC as the legitimate government of both Mainland China and Taiwan. China and India are two of the major regional powers in Asia, and are the two most populous countries and among the fastest growing major economies in the world.\\nGrowth in diplomatic and economic influence has increased the significance of their bilateral relationship. Between 2008 and 2021, China was India's largest trading partner, and the two countries have extended their strategic and military relations. However, conflict of interest leads to hostility. India has a large trade deficit that is favoured towards China. The two countries failed to resolve their border dispute and Indian media outlets have repeatedly reported Chinese military incursions into Indian territory. And relations between contemporary China and India have been characterised by border disputes, resulting in three military conflicts – the Sino-Indian War of 1962, the border clashes in Nathu La and Cho La in 1967, and the 1987 Sumdorong Chu standoff. Since the late 1980s, both countries have successfully rebuilt diplomatic and economic ties.\\nSince 2013, border disputes have reemerged to take centre stage in the two countries' mutual relations. In early 2018, the two armies got engaged in a standoff at the Doklam plateau along the disputed Bhutan-China border. Since summer 2020, armed standoffs and skirmishes at multiple locations along the entire Sino-Indian border escalated. A serious clash occurred in the Galwan Valley, resulting in the death of 20 Indian soldiers and many Chinese soldiers. Both countries have steadily established military infrastructure along border areas, including amidst the 2020 China–India skirmishes. Additionally, India remains wary about China's strong strategic bilateral relations with Pakistan, and China's relations to separatist groups in Northeast India, while China has expressed concerns about Indian military and economic activities in the disputed South China Sea as well as hosting of anti-China activity from Tibetan exiles. Today, the South Asian region is the premier site of intensified great power competition between China and India.\", 'source': 'https://en.wikipedia.org/wiki/China%E2%80%93India_relations'}, page_content='China and India maintained peaceful relations for thousands of years, but their relationship has varied since the Chinese Communist Party (CCP)\\'s victory in the Chinese Civil War in 1949 and the annexation of Tibet by the People\\'s Republic of China. The two nations have sought economic cooperation with each other, while frequent border disputes and economic nationalism in both countries are major points of contention.\\nCultural and economic relations between China and India date back to ancient times. The Silk Road not only served as a major trade route between India and China, but is also credited for facilitating the spread of Buddhism from India to East Asia. During the 19th century, China was involved in a growing opium trade with the East India Company, which exported opium grown in India. During World War II, both British India and the Republic of China (ROC) played a crucial role in halting the progress of Imperial Japan. After India became independent in 1947, it established relations with the ROC. The modern Sino-Indian diplomatic relationship began in 1950, when India was among the first noncommunist countries to end formal relations with the Republic of China and recognise the PRC as the legitimate government of both Mainland China and Taiwan. China and India are two of the major regional powers in Asia, and are the two most populous countries and among the fastest growing major economies in the world.\\nGrowth in diplomatic and economic influence has increased the significance of their bilateral relationship. Between 2008 and 2021, China was India\\'s largest trading partner, and the two countries have extended their strategic and military relations. However, conflict of interest leads to hostility. India has a large trade deficit that is favoured towards China. The two countries failed to resolve their border dispute and Indian media outlets have repeatedly reported Chinese military incursions into Indian territory. And relations between contemporary China and India have been characterised by border disputes, resulting in three military conflicts – the Sino-Indian War of 1962, the border clashes in Nathu La and Cho La in 1967, and the 1987 Sumdorong Chu standoff. Since the late 1980s, both countries have successfully rebuilt diplomatic and economic ties.\\nSince 2013, border disputes have reemerged to take centre stage in the two countries\\' mutual relations. In early 2018, the two armies got engaged in a standoff at the Doklam plateau along the disputed Bhutan-China border. Since summer 2020, armed standoffs and skirmishes at multiple locations along the entire Sino-Indian border escalated. A serious clash occurred in the Galwan Valley, resulting in the death of 20 Indian soldiers and many Chinese soldiers. Both countries have steadily established military infrastructure along border areas, including amidst the 2020 China–India skirmishes. Additionally, India remains wary about China\\'s strong strategic bilateral relations with Pakistan, and China\\'s relations to separatist groups in Northeast India, while China has expressed concerns about Indian military and economic activities in the disputed South China Sea as well as hosting of anti-China activity from Tibetan exiles. Today, the South Asian region is the premier site of intensified great power competition between China and India.\\n\\n\\n== Geopolitical overview ==\\n\\nThe China–India border straddles the Himalayas, with Nepal and Bhutan acting as buffer states. Parts of the disputed Kashmir region claimed by India (J&K and Ladakh) are claimed and administered by either Pakistan (Azad Kashmir and Gilgit Baltistan) or by the PRC (Aksai Chin). The Government of Pakistan, on its maps, shows the Aksai Chin area as mostly within China and labels the boundary \"Frontier Undefined\", while India holds that Aksai Chin is illegally occupied by the PRC. China and India also dispute most of Arunachal Pradesh.\\nNot only is China\\'s India policy shaped by greater competition with the United St'),\n",
       " Document(metadata={'title': 'Indo-Pakistani war of 1971', 'summary': \"The Indo-Pakistani war of 1971, also known as the third Indo-Pakistani war, was a military confrontation between India and Pakistan that occurred during the Bangladesh Liberation War in East Pakistan from 3 December 1971 until the Pakistani capitulation in Dhaka on 16 December 1971.  The war began with Pakistan's Operation Chengiz Khan, consisting of preemptive aerial strikes on eight Indian air stations. The strikes led to India declaring war on Pakistan, marking their entry into the war for East Pakistan's independence, on the side of Bengali nationalist forces. India's entry expanded the existing conflict with Indian and Pakistani forces engaging on both the eastern and western fronts. \\nThirteen days after the war started, India achieved a clear upper hand, and the Eastern Command of the Pakistan military signed the instrument of surrender on 16 December 1971 in Dhaka, marking the formation of East Pakistan as the new nation of Bangladesh. Approximately 93,000 Pakistani servicemen were taken prisoner by the Indian Army, which included 79,676 to 81,000 uniformed personnel of the Pakistan Armed Forces, including some Bengali soldiers who had remained loyal to Pakistan. The remaining 10,324 to 12,500 prisoners were civilians, either family members of the military personnel or collaborators (Razakars).\\nIt is estimated that members of the Pakistani military and supporting pro-Pakistani Islamist militias killed between 300,000 and 3,000,000 civilians in Bangladesh. As a result of the conflict, a further eight to ten million people fled the country to seek refuge in India.\\nDuring the war, members of the Pakistani military and supporting pro-Pakistani Islamist militias called the Razakars raped between 200,000 and 400,000 Bangladeshi women and girls in a systematic campaign of genocidal rape.\", 'source': 'https://en.wikipedia.org/wiki/Indo-Pakistani_war_of_1971'}, page_content=\"The Indo-Pakistani war of 1971, also known as the third Indo-Pakistani war, was a military confrontation between India and Pakistan that occurred during the Bangladesh Liberation War in East Pakistan from 3 December 1971 until the Pakistani capitulation in Dhaka on 16 December 1971.  The war began with Pakistan's Operation Chengiz Khan, consisting of preemptive aerial strikes on eight Indian air stations. The strikes led to India declaring war on Pakistan, marking their entry into the war for East Pakistan's independence, on the side of Bengali nationalist forces. India's entry expanded the existing conflict with Indian and Pakistani forces engaging on both the eastern and western fronts. \\nThirteen days after the war started, India achieved a clear upper hand, and the Eastern Command of the Pakistan military signed the instrument of surrender on 16 December 1971 in Dhaka, marking the formation of East Pakistan as the new nation of Bangladesh. Approximately 93,000 Pakistani servicemen were taken prisoner by the Indian Army, which included 79,676 to 81,000 uniformed personnel of the Pakistan Armed Forces, including some Bengali soldiers who had remained loyal to Pakistan. The remaining 10,324 to 12,500 prisoners were civilians, either family members of the military personnel or collaborators (Razakars).\\nIt is estimated that members of the Pakistani military and supporting pro-Pakistani Islamist militias killed between 300,000 and 3,000,000 civilians in Bangladesh. As a result of the conflict, a further eight to ten million people fled the country to seek refuge in India.\\nDuring the war, members of the Pakistani military and supporting pro-Pakistani Islamist militias called the Razakars raped between 200,000 and 400,000 Bangladeshi women and girls in a systematic campaign of genocidal rape.\\n\\n\\n== Background ==\\n\\nThe Indo-Pakistani conflict was sparked by the Bangladesh Liberation War, which was a result of the violation of the rights of East Pakistan by the Pakistan Army. The political tensions in East Pakistan had its origin in the creation of Pakistan as a result of the partition of India by the United Kingdom in 1947; the popular language movement in 1950; mass riots in East Bengal in 1964; and the mass protests in 1969. These led to the resignation of President Ayub Khan, who invited army chief General Yahya Khan to take over the central government. The geographical distance between the eastern and western wings of Pakistan was vast; East Pakistan lay over 1,600 kilometres (1,000 mi) away, which greatly hampered any attempt to integrate the Bengali and the Pakistani cultures.\\nTo overcome the Bengali domination and prevent formation of the central government in Islamabad, the controversial One Unit programme established the two wings of East and West Pakistan. West Pakistanis' opposition to these efforts made it difficult to effectively govern both wings. In 1969, President Yahya Khan announced the first general elections and disestablished the status of West Pakistan as a single province in 1970, in order to restore it to its original heterogeneous status comprising four provinces, as defined at the time of establishment of Pakistan in 1947. In addition, there were religious and racial tensions between Bengalis and the multi-ethnic West Pakistanis, as Bengalis looked different from the dominant West Pakistanis.\\nThe East Pakistan's Awami League leader Sheikh Mujibur Rahman stressed his political position by presenting his Six Points and endorsing the Bengalis' right to govern. The 1970 Pakistani general election, resulted in Awami League gaining 167 out of 169 seats for the East Pakistan Legislative Assembly, and a near-absolute majority in the 313-seat National Assembly, while the vote in West Pakistan was mostly won by the socialist Pakistan Peoples Party. The League's election success caused many West Pakistanis to fear that it would allow the Bengalis to draft the constitution based on the six-points and liberalism.\\nTo resol\")]"
      ]
     },
     "execution_count": 6,
     "metadata": {},
     "output_type": "execute_result"
    }
   ],
   "source": [
    "docs"
   ]
  },
  {
   "cell_type": "code",
   "execution_count": 7,
   "id": "be56f08b",
   "metadata": {},
   "outputs": [
    {
     "name": "stdout",
     "output_type": "stream",
     "text": [
      "\n",
      "--- Result 1 ---\n",
      "Content:\n",
      "China and India maintained peaceful relations for thousands of years, but their relationship has varied since the Chinese Communist Party (CCP)'s victory in the Chinese Civil War in 1949 and the annexation of Tibet by the People's Republic of China. The two nations have sought economic cooperation with each other, while frequent border disputes and economic nationalism in both countries are major points of contention.\n",
      "Cultural and economic relations between China and India date back to ancient times. The Silk Road not only served as a major trade route between India and China, but is also credited for facilitating the spread of Buddhism from India to East Asia. During the 19th century, China was involved in a growing opium trade with the East India Company, which exported opium grown in India. During World War II, both British India and the Republic of China (ROC) played a crucial role in halting the progress of Imperial Japan. After India became independent in 1947, it established relations with the ROC. The modern Sino-Indian diplomatic relationship began in 1950, when India was among the first noncommunist countries to end formal relations with the Republic of China and recognise the PRC as the legitimate government of both Mainland China and Taiwan. China and India are two of the major regional powers in Asia, and are the two most populous countries and among the fastest growing major economies in the world.\n",
      "Growth in diplomatic and economic influence has increased the significance of their bilateral relationship. Between 2008 and 2021, China was India's largest trading partner, and the two countries have extended their strategic and military relations. However, conflict of interest leads to hostility. India has a large trade deficit that is favoured towards China. The two countries failed to resolve their border dispute and Indian media outlets have repeatedly reported Chinese military incursions into Indian territory. And relations between contemporary China and India have been characterised by border disputes, resulting in three military conflicts – the Sino-Indian War of 1962, the border clashes in Nathu La and Cho La in 1967, and the 1987 Sumdorong Chu standoff. Since the late 1980s, both countries have successfully rebuilt diplomatic and economic ties.\n",
      "Since 2013, border disputes have reemerged to take centre stage in the two countries' mutual relations. In early 2018, the two armies got engaged in a standoff at the Doklam plateau along the disputed Bhutan-China border. Since summer 2020, armed standoffs and skirmishes at multiple locations along the entire Sino-Indian border escalated. A serious clash occurred in the Galwan Valley, resulting in the death of 20 Indian soldiers and many Chinese soldiers. Both countries have steadily established military infrastructure along border areas, including amidst the 2020 China–India skirmishes. Additionally, India remains wary about China's strong strategic bilateral relations with Pakistan, and China's relations to separatist groups in Northeast India, while China has expressed concerns about Indian military and economic activities in the disputed South China Sea as well as hosting of anti-China activity from Tibetan exiles. Today, the South Asian region is the premier site of intensified great power competition between China and India.\n",
      "\n",
      "\n",
      "== Geopolitical overview ==\n",
      "\n",
      "The China–India border straddles the Himalayas, with Nepal and Bhutan acting as buffer states. Parts of the disputed Kashmir region claimed by India (J&K and Ladakh) are claimed and administered by either Pakistan (Azad Kashmir and Gilgit Baltistan) or by the PRC (Aksai Chin). The Government of Pakistan, on its maps, shows the Aksai Chin area as mostly within China and labels the boundary \"Frontier Undefined\", while India holds that Aksai Chin is illegally occupied by the PRC. China and India also dispute most of Arunachal Pradesh.\n",
      "Not only is China's India policy shaped by greater competition with the United St...\n",
      "\n",
      "--- Result 2 ---\n",
      "Content:\n",
      "The Indo-Pakistani war of 1971, also known as the third Indo-Pakistani war, was a military confrontation between India and Pakistan that occurred during the Bangladesh Liberation War in East Pakistan from 3 December 1971 until the Pakistani capitulation in Dhaka on 16 December 1971.  The war began with Pakistan's Operation Chengiz Khan, consisting of preemptive aerial strikes on eight Indian air stations. The strikes led to India declaring war on Pakistan, marking their entry into the war for East Pakistan's independence, on the side of Bengali nationalist forces. India's entry expanded the existing conflict with Indian and Pakistani forces engaging on both the eastern and western fronts. \n",
      "Thirteen days after the war started, India achieved a clear upper hand, and the Eastern Command of the Pakistan military signed the instrument of surrender on 16 December 1971 in Dhaka, marking the formation of East Pakistan as the new nation of Bangladesh. Approximately 93,000 Pakistani servicemen were taken prisoner by the Indian Army, which included 79,676 to 81,000 uniformed personnel of the Pakistan Armed Forces, including some Bengali soldiers who had remained loyal to Pakistan. The remaining 10,324 to 12,500 prisoners were civilians, either family members of the military personnel or collaborators (Razakars).\n",
      "It is estimated that members of the Pakistani military and supporting pro-Pakistani Islamist militias killed between 300,000 and 3,000,000 civilians in Bangladesh. As a result of the conflict, a further eight to ten million people fled the country to seek refuge in India.\n",
      "During the war, members of the Pakistani military and supporting pro-Pakistani Islamist militias called the Razakars raped between 200,000 and 400,000 Bangladeshi women and girls in a systematic campaign of genocidal rape.\n",
      "\n",
      "\n",
      "== Background ==\n",
      "\n",
      "The Indo-Pakistani conflict was sparked by the Bangladesh Liberation War, which was a result of the violation of the rights of East Pakistan by the Pakistan Army. The political tensions in East Pakistan had its origin in the creation of Pakistan as a result of the partition of India by the United Kingdom in 1947; the popular language movement in 1950; mass riots in East Bengal in 1964; and the mass protests in 1969. These led to the resignation of President Ayub Khan, who invited army chief General Yahya Khan to take over the central government. The geographical distance between the eastern and western wings of Pakistan was vast; East Pakistan lay over 1,600 kilometres (1,000 mi) away, which greatly hampered any attempt to integrate the Bengali and the Pakistani cultures.\n",
      "To overcome the Bengali domination and prevent formation of the central government in Islamabad, the controversial One Unit programme established the two wings of East and West Pakistan. West Pakistanis' opposition to these efforts made it difficult to effectively govern both wings. In 1969, President Yahya Khan announced the first general elections and disestablished the status of West Pakistan as a single province in 1970, in order to restore it to its original heterogeneous status comprising four provinces, as defined at the time of establishment of Pakistan in 1947. In addition, there were religious and racial tensions between Bengalis and the multi-ethnic West Pakistanis, as Bengalis looked different from the dominant West Pakistanis.\n",
      "The East Pakistan's Awami League leader Sheikh Mujibur Rahman stressed his political position by presenting his Six Points and endorsing the Bengalis' right to govern. The 1970 Pakistani general election, resulted in Awami League gaining 167 out of 169 seats for the East Pakistan Legislative Assembly, and a near-absolute majority in the 313-seat National Assembly, while the vote in West Pakistan was mostly won by the socialist Pakistan Peoples Party. The League's election success caused many West Pakistanis to fear that it would allow the Bengalis to draft the constitution based on the six-points and liberalism.\n",
      "To resol...\n"
     ]
    }
   ],
   "source": [
    "# Print retrieved content\n",
    "for i, doc in enumerate(docs):\n",
    "    print(f\"\\n--- Result {i+1} ---\")\n",
    "    print(f\"Content:\\n{doc.page_content}...\")  # truncate for display"
   ]
  },
  {
   "cell_type": "code",
   "execution_count": null,
   "id": "c0299739",
   "metadata": {},
   "outputs": [],
   "source": []
  }
 ],
 "metadata": {
  "kernelspec": {
   "display_name": "venv",
   "language": "python",
   "name": "python3"
  },
  "language_info": {
   "codemirror_mode": {
    "name": "ipython",
    "version": 3
   },
   "file_extension": ".py",
   "mimetype": "text/x-python",
   "name": "python",
   "nbconvert_exporter": "python",
   "pygments_lexer": "ipython3",
   "version": "3.10.12"
  }
 },
 "nbformat": 4,
 "nbformat_minor": 5
}
